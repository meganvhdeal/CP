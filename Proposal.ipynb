{
 "cells": [
  {
   "cell_type": "markdown",
   "id": "eec6e5c6-0fe6-4e1c-a8a1-c1658f723d0d",
   "metadata": {},
   "source": [
    "1) a. 1) One variable would be to explore the relationship between demographics and whether or not someone has taken COVID vaccine to see the effect that factors such as age or ethnic background affects one's decision on this matter. 2)Another thing to explore is to analyze responses to the psychological/connect/etc. questions to determine levels of extraversion or introversion and whether these levels have some impact on factors such as how much they adhere to social distancing protocols or perhaps study how those personality types affected overall social well-being and mental health during COVID.\n",
    " "
   ]
  },
  {
   "cell_type": "markdown",
   "id": "067e41a3-9fac-44e2-b5d8-693758dd04a7",
   "metadata": {},
   "source": [
    "b. I plan to analyze 1) using hypothesis testing with my null hypothesis being demographics have no affect in an individual's COVID vaccination status and the alternate hypothesis being demographics does have an affect in an individual's COVID vaccination status.\n",
    "2) Perhaps linear regression would be best to analyze this. Since extraversion and introversion are a spectrum, using linear regression can help quantify how much of each actually affects how much an individual adheres to social distancing protocols or an individual's overall social well-being and mental health during COVID."
   ]
  },
  {
   "cell_type": "markdown",
   "id": "6c529ff1-3e3a-4389-bde6-31a0b85529cd",
   "metadata": {},
   "source": [
    "2) a. 1) Either the null hypothesis (demographics have no affect in an individual's COVID vaccination status) will appear to be true or the null is rejected which makes the alt hypothesis (demographics does have an affect in an individual's COVID vaccination status). Typically the null qould be rejected if p-value < 0.05. 2) Either higher rates of extraversion/introversion will mean less likely to adhere to social distancing/ more likely to adhere to social distancing or extraversion/introversion will mean less likely to have poor social well-being or poor mental health during COVID/more likely to have poor social well-being or poor mental health during COVID OR the data could prove that extraversion/introversion has no affect or veyr little affect on those factors.\n",
    "    "
   ]
  },
  {
   "cell_type": "markdown",
   "id": "7a37ea34-c54c-49b8-8858-8fa8753850e6",
   "metadata": {},
   "source": [
    "b. This can be relevant to the course project as the above ideas can explore relationships between the data and various aspects like personality and backgrounds affect individual response to the COVID era and its protocols. "
   ]
  },
  {
   "cell_type": "code",
   "execution_count": null,
   "id": "53b1c9c5-b01a-4352-bf7f-a98216ef16f3",
   "metadata": {},
   "outputs": [],
   "source": []
  }
 ],
 "metadata": {
  "kernelspec": {
   "display_name": "Python 3 (ipykernel)",
   "language": "python",
   "name": "python3"
  },
  "language_info": {
   "codemirror_mode": {
    "name": "ipython",
    "version": 3
   },
   "file_extension": ".py",
   "mimetype": "text/x-python",
   "name": "python",
   "nbconvert_exporter": "python",
   "pygments_lexer": "ipython3",
   "version": "3.11.6"
  }
 },
 "nbformat": 4,
 "nbformat_minor": 5
}
